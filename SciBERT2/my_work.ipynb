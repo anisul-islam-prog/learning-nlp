{
 "cells": [
  {
   "cell_type": "code",
   "execution_count": 6,
   "id": "84645f26",
   "metadata": {},
   "outputs": [],
   "source": [
    "from mysql_manager import MySQLManager\n",
    "from scibert import SciBERT\n",
    "import numpy as np\n",
    "import pandas as pd\n",
    "from scipy import spatial\n",
    "import pickle\n",
    "import matplotlib.pyplot as plt\n",
    "from matplotlib.backends.backend_agg  import FigureCanvasAgg as FigureCanvas\n",
    "import seaborn as sns\n",
    "import io"
   ]
  },
  {
   "cell_type": "code",
   "execution_count": 4,
   "id": "0a0024c6",
   "metadata": {},
   "outputs": [],
   "source": [
    "mysql = MySQLManager()\n",
    "data_2018 = mysql.select(\"2018\")\n",
    "data_2019 = mysql.select(\"2019\")\n",
    "data_2020 = mysql.select(\"2020\")\n",
    "data_2021 = mysql.select(\"2021\")\n"
   ]
  },
  {
   "cell_type": "code",
   "execution_count": 5,
   "id": "cd5a5039",
   "metadata": {},
   "outputs": [
    {
     "name": "stderr",
     "output_type": "stream",
     "text": [
      "IOPub data rate exceeded.\n",
      "The notebook server will temporarily stop sending output\n",
      "to the client in order to avoid crashing it.\n",
      "To change this limit, set the config variable\n",
      "`--NotebookApp.iopub_data_rate_limit`.\n",
      "\n",
      "Current values:\n",
      "NotebookApp.iopub_data_rate_limit=1000000.0 (bytes/sec)\n",
      "NotebookApp.rate_limit_window=3.0 (secs)\n",
      "\n"
     ]
    }
   ],
   "source": [
    "for item_2018 in data_2018:\n",
    "    item_2018[\"vector\"] = pickle.loads(item_2018[\"vector\"])\n",
    "    print(item_2018)\n",
    "\n",
    "for item_2019 in data_2019:\n",
    "    item_2019[\"vector\"] = pickle.loads(item_2019[\"vector\"])\n",
    "    \n",
    "for item_2020 in data_2020:\n",
    "    item_2020[\"vector\"] = pickle.loads(item_2020[\"vector\"])\n",
    "\n",
    "for item_2021 in data_2021:\n",
    "    item_2021[\"vector\"] = pickle.loads(item_2021[\"vector\"])\n",
    "# print (data_2021);"
   ]
  },
  {
   "cell_type": "code",
   "execution_count": 1,
   "id": "7d8466ff",
   "metadata": {},
   "outputs": [],
   "source": [
    "def find(data, vector):\n",
    "    df_lst = []\n",
    "    for item in data:\n",
    "        sim = similarity(vector, item[\"vector\"])\n",
    "        df_lst.append((item[\"author\"], sim))\n",
    "    df = pd.DataFrame(df_lst, columns=[\"author\", \"similarity\"])\n",
    "    df_agg = df.groupby(by=[\"author\"]).similarity.agg([\"mean\", \"std\",\"var\"])\n",
    "    df_agg.reset_index(inplace=True)\n",
    "    df_agg.fillna(0, inplace=True)\n",
    "    df_sorted = df_agg.sort_values(by=[\"mean\", \"std\"], ascending=[False, True])\n",
    "    return df_sorted.to_dict(\"records\")"
   ]
  },
  {
   "cell_type": "code",
   "execution_count": 5,
   "id": "49180a19",
   "metadata": {},
   "outputs": [],
   "source": [
    "def similarity(a, b):\n",
    "    return 1 - spatial.distance.cosine(a, b)"
   ]
  },
  {
   "cell_type": "code",
   "execution_count": 6,
   "id": "9abf30c9",
   "metadata": {},
   "outputs": [
    {
     "name": "stdout",
     "output_type": "stream",
     "text": [
      "Loading SciBERT model\n"
     ]
    },
    {
     "name": "stderr",
     "output_type": "stream",
     "text": [
      "Some weights of the model checkpoint at allenai/scibert_scivocab_uncased were not used when initializing BertModel: ['cls.predictions.transform.LayerNorm.bias', 'cls.seq_relationship.weight', 'cls.seq_relationship.bias', 'cls.predictions.bias', 'cls.predictions.transform.dense.weight', 'cls.predictions.transform.LayerNorm.weight', 'cls.predictions.decoder.bias', 'cls.predictions.decoder.weight', 'cls.predictions.transform.dense.bias']\n",
      "- This IS expected if you are initializing BertModel from the checkpoint of a model trained on another task or with another architecture (e.g. initializing a BertForSequenceClassification model from a BertForPreTraining model).\n",
      "- This IS NOT expected if you are initializing BertModel from the checkpoint of a model that you expect to be exactly identical (initializing a BertForSequenceClassification model from a BertForSequenceClassification model).\n"
     ]
    },
    {
     "name": "stdout",
     "output_type": "stream",
     "text": [
      "Enter 'q' to quit.\n"
     ]
    }
   ],
   "source": [
    "scibert = SciBERT()\n",
    "print(\"Enter 'q' to quit.\")"
   ]
  },
  {
   "cell_type": "code",
   "execution_count": 7,
   "id": "544546b9",
   "metadata": {},
   "outputs": [
    {
     "name": "stdout",
     "output_type": "stream",
     "text": [
      "Enter your query: Chemist, Quality Assurance\n"
     ]
    }
   ],
   "source": [
    "query = input(\"Enter your query: \")"
   ]
  },
  {
   "cell_type": "code",
   "execution_count": 8,
   "id": "9a5e9c47",
   "metadata": {},
   "outputs": [],
   "source": [
    "vector = scibert.vectorize(query)"
   ]
  },
  {
   "cell_type": "code",
   "execution_count": 39,
   "id": "6d2e23ee",
   "metadata": {},
   "outputs": [],
   "source": [
    "res_2018 = pd.DataFrame(find(data_2018, vector)) \n",
    "res_2019 = pd.DataFrame(find(data_2019, vector))\n",
    "res_2020 = pd.DataFrame(find(data_2020, vector))\n",
    "res_2021 = pd.DataFrame(find(data_2021, vector))"
   ]
  },
  {
   "cell_type": "code",
   "execution_count": 40,
   "id": "2380e030",
   "metadata": {},
   "outputs": [
    {
     "data": {
      "text/html": [
       "<div>\n",
       "<style scoped>\n",
       "    .dataframe tbody tr th:only-of-type {\n",
       "        vertical-align: middle;\n",
       "    }\n",
       "\n",
       "    .dataframe tbody tr th {\n",
       "        vertical-align: top;\n",
       "    }\n",
       "\n",
       "    .dataframe thead th {\n",
       "        text-align: right;\n",
       "    }\n",
       "</style>\n",
       "<table border=\"1\" class=\"dataframe\">\n",
       "  <thead>\n",
       "    <tr style=\"text-align: right;\">\n",
       "      <th></th>\n",
       "      <th>author</th>\n",
       "      <th>mean_2018</th>\n",
       "      <th>var_2018</th>\n",
       "    </tr>\n",
       "  </thead>\n",
       "  <tbody>\n",
       "    <tr>\n",
       "      <th>0</th>\n",
       "      <td>Idrus, Mohd Rushdi</td>\n",
       "      <td>0.67608</td>\n",
       "      <td>0.0</td>\n",
       "    </tr>\n",
       "    <tr>\n",
       "      <th>1</th>\n",
       "      <td>Kasiran, Mohd Khairuddin</td>\n",
       "      <td>0.67608</td>\n",
       "      <td>0.0</td>\n",
       "    </tr>\n",
       "    <tr>\n",
       "      <th>2</th>\n",
       "      <td>Razak, Rafidah Abd</td>\n",
       "      <td>0.67608</td>\n",
       "      <td>0.0</td>\n",
       "    </tr>\n",
       "  </tbody>\n",
       "</table>\n",
       "</div>"
      ],
      "text/plain": [
       "                     author  mean_2018  var_2018\n",
       "0        Idrus, Mohd Rushdi    0.67608       0.0\n",
       "1  Kasiran, Mohd Khairuddin    0.67608       0.0\n",
       "2        Razak, Rafidah Abd    0.67608       0.0"
      ]
     },
     "execution_count": 40,
     "metadata": {},
     "output_type": "execute_result"
    }
   ],
   "source": [
    "res_2018.rename(columns = {\"mean\":\"mean_2018\",\"var\":\"var_2018\"}, inplace = True)\n",
    "res_2018.drop(['std'], axis = 1, inplace = True)\n",
    "res_2018.head(3)"
   ]
  },
  {
   "cell_type": "code",
   "execution_count": 41,
   "id": "87705baf",
   "metadata": {},
   "outputs": [
    {
     "data": {
      "text/html": [
       "<div>\n",
       "<style scoped>\n",
       "    .dataframe tbody tr th:only-of-type {\n",
       "        vertical-align: middle;\n",
       "    }\n",
       "\n",
       "    .dataframe tbody tr th {\n",
       "        vertical-align: top;\n",
       "    }\n",
       "\n",
       "    .dataframe thead th {\n",
       "        text-align: right;\n",
       "    }\n",
       "</style>\n",
       "<table border=\"1\" class=\"dataframe\">\n",
       "  <thead>\n",
       "    <tr style=\"text-align: right;\">\n",
       "      <th></th>\n",
       "      <th>author_2019</th>\n",
       "      <th>mean_2019</th>\n",
       "      <th>var_2019</th>\n",
       "    </tr>\n",
       "  </thead>\n",
       "  <tbody>\n",
       "    <tr>\n",
       "      <th>0</th>\n",
       "      <td>Abdullah, Nasuha Lee</td>\n",
       "      <td>0.702404</td>\n",
       "      <td>0.0</td>\n",
       "    </tr>\n",
       "    <tr>\n",
       "      <th>1</th>\n",
       "      <td>Abu Bakar, Muhamad Shahbani</td>\n",
       "      <td>0.677253</td>\n",
       "      <td>0.0</td>\n",
       "    </tr>\n",
       "    <tr>\n",
       "      <th>2</th>\n",
       "      <td>Saad, Sharhida Zawani</td>\n",
       "      <td>0.677253</td>\n",
       "      <td>0.0</td>\n",
       "    </tr>\n",
       "  </tbody>\n",
       "</table>\n",
       "</div>"
      ],
      "text/plain": [
       "                   author_2019  mean_2019  var_2019\n",
       "0         Abdullah, Nasuha Lee   0.702404       0.0\n",
       "1  Abu Bakar, Muhamad Shahbani   0.677253       0.0\n",
       "2        Saad, Sharhida Zawani   0.677253       0.0"
      ]
     },
     "execution_count": 41,
     "metadata": {},
     "output_type": "execute_result"
    }
   ],
   "source": [
    "res_2019.rename(columns = {\"author\":\"author_2019\", \"mean\":\"mean_2019\",\"var\":\"var_2019\"}, inplace = True)\n",
    "res_2019.drop(['std'], axis = 1, inplace = True)\n",
    "res_2019.head(3)"
   ]
  },
  {
   "cell_type": "code",
   "execution_count": 42,
   "id": "aa87d355",
   "metadata": {},
   "outputs": [],
   "source": [
    "# merge datasets\n",
    "df_combined_v1 = res_2018.merge(res_2019, left_on='author', right_on='author_2019', how='inner')"
   ]
  },
  {
   "cell_type": "code",
   "execution_count": 43,
   "id": "24878af4",
   "metadata": {},
   "outputs": [
    {
     "data": {
      "text/html": [
       "<div>\n",
       "<style scoped>\n",
       "    .dataframe tbody tr th:only-of-type {\n",
       "        vertical-align: middle;\n",
       "    }\n",
       "\n",
       "    .dataframe tbody tr th {\n",
       "        vertical-align: top;\n",
       "    }\n",
       "\n",
       "    .dataframe thead th {\n",
       "        text-align: right;\n",
       "    }\n",
       "</style>\n",
       "<table border=\"1\" class=\"dataframe\">\n",
       "  <thead>\n",
       "    <tr style=\"text-align: right;\">\n",
       "      <th></th>\n",
       "      <th>author_2020</th>\n",
       "      <th>mean_2020</th>\n",
       "      <th>var_2020</th>\n",
       "    </tr>\n",
       "  </thead>\n",
       "  <tbody>\n",
       "    <tr>\n",
       "      <th>0</th>\n",
       "      <td>Md Siraj, Maheyzah</td>\n",
       "      <td>0.690790</td>\n",
       "      <td>0.0</td>\n",
       "    </tr>\n",
       "    <tr>\n",
       "      <th>1</th>\n",
       "      <td>Kadir, Rashidah</td>\n",
       "      <td>0.667057</td>\n",
       "      <td>0.0</td>\n",
       "    </tr>\n",
       "    <tr>\n",
       "      <th>2</th>\n",
       "      <td>Zahilah, Raja</td>\n",
       "      <td>0.667057</td>\n",
       "      <td>0.0</td>\n",
       "    </tr>\n",
       "  </tbody>\n",
       "</table>\n",
       "</div>"
      ],
      "text/plain": [
       "          author_2020  mean_2020  var_2020\n",
       "0  Md Siraj, Maheyzah   0.690790       0.0\n",
       "1     Kadir, Rashidah   0.667057       0.0\n",
       "2       Zahilah, Raja   0.667057       0.0"
      ]
     },
     "execution_count": 43,
     "metadata": {},
     "output_type": "execute_result"
    }
   ],
   "source": [
    "res_2020.rename(columns = {\"author\":\"author_2020\", \"mean\":\"mean_2020\",\"var\":\"var_2020\"}, inplace = True)\n",
    "res_2020.drop(['std'], axis = 1, inplace = True)\n",
    "res_2020.head(3)"
   ]
  },
  {
   "cell_type": "code",
   "execution_count": 44,
   "id": "2b004f82",
   "metadata": {},
   "outputs": [],
   "source": [
    "df_combined_v2 = df_combined_v1.merge(res_2020, left_on='author', right_on='author_2020', how='inner')"
   ]
  },
  {
   "cell_type": "code",
   "execution_count": 45,
   "id": "fe7000d5",
   "metadata": {},
   "outputs": [
    {
     "data": {
      "text/html": [
       "<div>\n",
       "<style scoped>\n",
       "    .dataframe tbody tr th:only-of-type {\n",
       "        vertical-align: middle;\n",
       "    }\n",
       "\n",
       "    .dataframe tbody tr th {\n",
       "        vertical-align: top;\n",
       "    }\n",
       "\n",
       "    .dataframe thead th {\n",
       "        text-align: right;\n",
       "    }\n",
       "</style>\n",
       "<table border=\"1\" class=\"dataframe\">\n",
       "  <thead>\n",
       "    <tr style=\"text-align: right;\">\n",
       "      <th></th>\n",
       "      <th>author_2021</th>\n",
       "      <th>mean_2021</th>\n",
       "      <th>var_2021</th>\n",
       "    </tr>\n",
       "  </thead>\n",
       "  <tbody>\n",
       "    <tr>\n",
       "      <th>0</th>\n",
       "      <td>Arshad, Marina</td>\n",
       "      <td>0.668910</td>\n",
       "      <td>0.000000</td>\n",
       "    </tr>\n",
       "    <tr>\n",
       "      <th>1</th>\n",
       "      <td>Zahilah, Raja</td>\n",
       "      <td>0.664119</td>\n",
       "      <td>0.000106</td>\n",
       "    </tr>\n",
       "    <tr>\n",
       "      <th>2</th>\n",
       "      <td>Bin Othman, Mohd Khalit</td>\n",
       "      <td>0.660941</td>\n",
       "      <td>0.000751</td>\n",
       "    </tr>\n",
       "  </tbody>\n",
       "</table>\n",
       "</div>"
      ],
      "text/plain": [
       "               author_2021  mean_2021  var_2021\n",
       "0           Arshad, Marina   0.668910  0.000000\n",
       "1            Zahilah, Raja   0.664119  0.000106\n",
       "2  Bin Othman, Mohd Khalit   0.660941  0.000751"
      ]
     },
     "execution_count": 45,
     "metadata": {},
     "output_type": "execute_result"
    }
   ],
   "source": [
    "res_2021.rename(columns = {\"author\":\"author_2021\", \"mean\":\"mean_2021\",\"var\":\"var_2021\"}, inplace = True)\n",
    "res_2021.drop(['std'], axis = 1, inplace = True)\n",
    "res_2021.head(3)"
   ]
  },
  {
   "cell_type": "code",
   "execution_count": 46,
   "id": "802ebd58",
   "metadata": {},
   "outputs": [],
   "source": [
    "df_combined = df_combined_v2.merge(res_2021, left_on='author', right_on='author_2021', how='inner')"
   ]
  },
  {
   "cell_type": "code",
   "execution_count": 47,
   "id": "de875086",
   "metadata": {},
   "outputs": [
    {
     "data": {
      "text/html": [
       "<div>\n",
       "<style scoped>\n",
       "    .dataframe tbody tr th:only-of-type {\n",
       "        vertical-align: middle;\n",
       "    }\n",
       "\n",
       "    .dataframe tbody tr th {\n",
       "        vertical-align: top;\n",
       "    }\n",
       "\n",
       "    .dataframe thead th {\n",
       "        text-align: right;\n",
       "    }\n",
       "</style>\n",
       "<table border=\"1\" class=\"dataframe\">\n",
       "  <thead>\n",
       "    <tr style=\"text-align: right;\">\n",
       "      <th></th>\n",
       "      <th>author</th>\n",
       "      <th>mean_2018</th>\n",
       "      <th>var_2018</th>\n",
       "      <th>author_2019</th>\n",
       "      <th>mean_2019</th>\n",
       "      <th>var_2019</th>\n",
       "      <th>author_2020</th>\n",
       "      <th>mean_2020</th>\n",
       "      <th>var_2020</th>\n",
       "      <th>author_2021</th>\n",
       "      <th>mean_2021</th>\n",
       "      <th>var_2021</th>\n",
       "    </tr>\n",
       "  </thead>\n",
       "  <tbody>\n",
       "    <tr>\n",
       "      <th>0</th>\n",
       "      <td>Ruhaiyem, Nur Intan Raihana</td>\n",
       "      <td>0.652072</td>\n",
       "      <td>0.000000</td>\n",
       "      <td>Ruhaiyem, Nur Intan Raihana</td>\n",
       "      <td>0.593962</td>\n",
       "      <td>0.002093</td>\n",
       "      <td>Ruhaiyem, Nur Intan Raihana</td>\n",
       "      <td>0.666212</td>\n",
       "      <td>0.000874</td>\n",
       "      <td>Ruhaiyem, Nur Intan Raihana</td>\n",
       "      <td>0.628371</td>\n",
       "      <td>0.000693</td>\n",
       "    </tr>\n",
       "    <tr>\n",
       "      <th>1</th>\n",
       "      <td>Binti Mohd Yasin, Norizan</td>\n",
       "      <td>0.652038</td>\n",
       "      <td>0.000000</td>\n",
       "      <td>Binti Mohd Yasin, Norizan</td>\n",
       "      <td>0.650419</td>\n",
       "      <td>0.002373</td>\n",
       "      <td>Binti Mohd Yasin, Norizan</td>\n",
       "      <td>0.534434</td>\n",
       "      <td>0.000000</td>\n",
       "      <td>Binti Mohd Yasin, Norizan</td>\n",
       "      <td>0.521620</td>\n",
       "      <td>0.000000</td>\n",
       "    </tr>\n",
       "    <tr>\n",
       "      <th>2</th>\n",
       "      <td>Husin, Mohd Heikal</td>\n",
       "      <td>0.650664</td>\n",
       "      <td>0.000631</td>\n",
       "      <td>Husin, Mohd Heikal</td>\n",
       "      <td>0.629880</td>\n",
       "      <td>0.001090</td>\n",
       "      <td>Husin, Mohd Heikal</td>\n",
       "      <td>0.567764</td>\n",
       "      <td>0.000770</td>\n",
       "      <td>Husin, Mohd Heikal</td>\n",
       "      <td>0.598194</td>\n",
       "      <td>0.001584</td>\n",
       "    </tr>\n",
       "  </tbody>\n",
       "</table>\n",
       "</div>"
      ],
      "text/plain": [
       "                        author  mean_2018  var_2018  \\\n",
       "0  Ruhaiyem, Nur Intan Raihana   0.652072  0.000000   \n",
       "1    Binti Mohd Yasin, Norizan   0.652038  0.000000   \n",
       "2           Husin, Mohd Heikal   0.650664  0.000631   \n",
       "\n",
       "                   author_2019  mean_2019  var_2019  \\\n",
       "0  Ruhaiyem, Nur Intan Raihana   0.593962  0.002093   \n",
       "1    Binti Mohd Yasin, Norizan   0.650419  0.002373   \n",
       "2           Husin, Mohd Heikal   0.629880  0.001090   \n",
       "\n",
       "                   author_2020  mean_2020  var_2020  \\\n",
       "0  Ruhaiyem, Nur Intan Raihana   0.666212  0.000874   \n",
       "1    Binti Mohd Yasin, Norizan   0.534434  0.000000   \n",
       "2           Husin, Mohd Heikal   0.567764  0.000770   \n",
       "\n",
       "                   author_2021  mean_2021  var_2021  \n",
       "0  Ruhaiyem, Nur Intan Raihana   0.628371  0.000693  \n",
       "1    Binti Mohd Yasin, Norizan   0.521620  0.000000  \n",
       "2           Husin, Mohd Heikal   0.598194  0.001584  "
      ]
     },
     "execution_count": 47,
     "metadata": {},
     "output_type": "execute_result"
    }
   ],
   "source": [
    "# view to check merge\n",
    "df_combined.head(3)"
   ]
  },
  {
   "cell_type": "code",
   "execution_count": 48,
   "id": "3a37b6b2",
   "metadata": {},
   "outputs": [],
   "source": [
    "df_combined.drop(['author_2019','author_2020','author_2021'], axis = 1, inplace = True)"
   ]
  },
  {
   "cell_type": "code",
   "execution_count": 49,
   "id": "0e0e8278",
   "metadata": {},
   "outputs": [
    {
     "data": {
      "text/html": [
       "<div>\n",
       "<style scoped>\n",
       "    .dataframe tbody tr th:only-of-type {\n",
       "        vertical-align: middle;\n",
       "    }\n",
       "\n",
       "    .dataframe tbody tr th {\n",
       "        vertical-align: top;\n",
       "    }\n",
       "\n",
       "    .dataframe thead th {\n",
       "        text-align: right;\n",
       "    }\n",
       "</style>\n",
       "<table border=\"1\" class=\"dataframe\">\n",
       "  <thead>\n",
       "    <tr style=\"text-align: right;\">\n",
       "      <th></th>\n",
       "      <th>author</th>\n",
       "      <th>mean_2018</th>\n",
       "      <th>var_2018</th>\n",
       "      <th>mean_2019</th>\n",
       "      <th>var_2019</th>\n",
       "      <th>mean_2020</th>\n",
       "      <th>var_2020</th>\n",
       "      <th>mean_2021</th>\n",
       "      <th>var_2021</th>\n",
       "    </tr>\n",
       "  </thead>\n",
       "  <tbody>\n",
       "    <tr>\n",
       "      <th>0</th>\n",
       "      <td>Ruhaiyem, Nur Intan Raihana</td>\n",
       "      <td>0.652072</td>\n",
       "      <td>0.000000</td>\n",
       "      <td>0.593962</td>\n",
       "      <td>0.002093</td>\n",
       "      <td>0.666212</td>\n",
       "      <td>0.000874</td>\n",
       "      <td>0.628371</td>\n",
       "      <td>0.000693</td>\n",
       "    </tr>\n",
       "    <tr>\n",
       "      <th>1</th>\n",
       "      <td>Binti Mohd Yasin, Norizan</td>\n",
       "      <td>0.652038</td>\n",
       "      <td>0.000000</td>\n",
       "      <td>0.650419</td>\n",
       "      <td>0.002373</td>\n",
       "      <td>0.534434</td>\n",
       "      <td>0.000000</td>\n",
       "      <td>0.521620</td>\n",
       "      <td>0.000000</td>\n",
       "    </tr>\n",
       "    <tr>\n",
       "      <th>2</th>\n",
       "      <td>Husin, Mohd Heikal</td>\n",
       "      <td>0.650664</td>\n",
       "      <td>0.000631</td>\n",
       "      <td>0.629880</td>\n",
       "      <td>0.001090</td>\n",
       "      <td>0.567764</td>\n",
       "      <td>0.000770</td>\n",
       "      <td>0.598194</td>\n",
       "      <td>0.001584</td>\n",
       "    </tr>\n",
       "    <tr>\n",
       "      <th>3</th>\n",
       "      <td>Omar, Mohd Adib</td>\n",
       "      <td>0.650307</td>\n",
       "      <td>0.000000</td>\n",
       "      <td>0.570060</td>\n",
       "      <td>0.000000</td>\n",
       "      <td>0.609767</td>\n",
       "      <td>0.002902</td>\n",
       "      <td>0.612225</td>\n",
       "      <td>0.000167</td>\n",
       "    </tr>\n",
       "    <tr>\n",
       "      <th>4</th>\n",
       "      <td>Norman, Azah Anir</td>\n",
       "      <td>0.642114</td>\n",
       "      <td>0.002107</td>\n",
       "      <td>0.617619</td>\n",
       "      <td>0.000475</td>\n",
       "      <td>0.579375</td>\n",
       "      <td>0.001874</td>\n",
       "      <td>0.601238</td>\n",
       "      <td>0.002200</td>\n",
       "    </tr>\n",
       "  </tbody>\n",
       "</table>\n",
       "</div>"
      ],
      "text/plain": [
       "                        author  mean_2018  var_2018  mean_2019  var_2019  \\\n",
       "0  Ruhaiyem, Nur Intan Raihana   0.652072  0.000000   0.593962  0.002093   \n",
       "1    Binti Mohd Yasin, Norizan   0.652038  0.000000   0.650419  0.002373   \n",
       "2           Husin, Mohd Heikal   0.650664  0.000631   0.629880  0.001090   \n",
       "3              Omar, Mohd Adib   0.650307  0.000000   0.570060  0.000000   \n",
       "4            Norman, Azah Anir   0.642114  0.002107   0.617619  0.000475   \n",
       "\n",
       "   mean_2020  var_2020  mean_2021  var_2021  \n",
       "0   0.666212  0.000874   0.628371  0.000693  \n",
       "1   0.534434  0.000000   0.521620  0.000000  \n",
       "2   0.567764  0.000770   0.598194  0.001584  \n",
       "3   0.609767  0.002902   0.612225  0.000167  \n",
       "4   0.579375  0.001874   0.601238  0.002200  "
      ]
     },
     "execution_count": 49,
     "metadata": {},
     "output_type": "execute_result"
    }
   ],
   "source": [
    "df_combined.head()"
   ]
  },
  {
   "cell_type": "code",
   "execution_count": 50,
   "id": "60ebc57c",
   "metadata": {},
   "outputs": [],
   "source": [
    "model_mean = df_combined.groupby('author', sort = False).mean()[['mean_2018', 'mean_2019','mean_2020','mean_2021']]"
   ]
  },
  {
   "cell_type": "code",
   "execution_count": 51,
   "id": "ff7a419b",
   "metadata": {},
   "outputs": [
    {
     "data": {
      "text/html": [
       "<div>\n",
       "<style scoped>\n",
       "    .dataframe tbody tr th:only-of-type {\n",
       "        vertical-align: middle;\n",
       "    }\n",
       "\n",
       "    .dataframe tbody tr th {\n",
       "        vertical-align: top;\n",
       "    }\n",
       "\n",
       "    .dataframe thead th {\n",
       "        text-align: right;\n",
       "    }\n",
       "</style>\n",
       "<table border=\"1\" class=\"dataframe\">\n",
       "  <thead>\n",
       "    <tr style=\"text-align: right;\">\n",
       "      <th></th>\n",
       "      <th>mean_2018</th>\n",
       "      <th>mean_2019</th>\n",
       "      <th>mean_2020</th>\n",
       "      <th>mean_2021</th>\n",
       "    </tr>\n",
       "    <tr>\n",
       "      <th>author</th>\n",
       "      <th></th>\n",
       "      <th></th>\n",
       "      <th></th>\n",
       "      <th></th>\n",
       "    </tr>\n",
       "  </thead>\n",
       "  <tbody>\n",
       "    <tr>\n",
       "      <th>Ruhaiyem, Nur Intan Raihana</th>\n",
       "      <td>0.652072</td>\n",
       "      <td>0.593962</td>\n",
       "      <td>0.666212</td>\n",
       "      <td>0.628371</td>\n",
       "    </tr>\n",
       "    <tr>\n",
       "      <th>Binti Mohd Yasin, Norizan</th>\n",
       "      <td>0.652038</td>\n",
       "      <td>0.650419</td>\n",
       "      <td>0.534434</td>\n",
       "      <td>0.521620</td>\n",
       "    </tr>\n",
       "    <tr>\n",
       "      <th>Husin, Mohd Heikal</th>\n",
       "      <td>0.650664</td>\n",
       "      <td>0.629880</td>\n",
       "      <td>0.567764</td>\n",
       "      <td>0.598194</td>\n",
       "    </tr>\n",
       "    <tr>\n",
       "      <th>Omar, Mohd Adib</th>\n",
       "      <td>0.650307</td>\n",
       "      <td>0.570060</td>\n",
       "      <td>0.609767</td>\n",
       "      <td>0.612225</td>\n",
       "    </tr>\n",
       "    <tr>\n",
       "      <th>Norman, Azah Anir</th>\n",
       "      <td>0.642114</td>\n",
       "      <td>0.617619</td>\n",
       "      <td>0.579375</td>\n",
       "      <td>0.601238</td>\n",
       "    </tr>\n",
       "  </tbody>\n",
       "</table>\n",
       "</div>"
      ],
      "text/plain": [
       "                             mean_2018  mean_2019  mean_2020  mean_2021\n",
       "author                                                                 \n",
       "Ruhaiyem, Nur Intan Raihana   0.652072   0.593962   0.666212   0.628371\n",
       "Binti Mohd Yasin, Norizan     0.652038   0.650419   0.534434   0.521620\n",
       "Husin, Mohd Heikal            0.650664   0.629880   0.567764   0.598194\n",
       "Omar, Mohd Adib               0.650307   0.570060   0.609767   0.612225\n",
       "Norman, Azah Anir             0.642114   0.617619   0.579375   0.601238"
      ]
     },
     "execution_count": 51,
     "metadata": {},
     "output_type": "execute_result"
    }
   ],
   "source": [
    "model_mean.head()"
   ]
  },
  {
   "cell_type": "code",
   "execution_count": 52,
   "id": "8a0678fc",
   "metadata": {},
   "outputs": [],
   "source": [
    "model_var = df_combined.groupby('author', sort = False).mean()[['var_2018', 'var_2019','var_2020','var_2021']]"
   ]
  },
  {
   "cell_type": "code",
   "execution_count": 53,
   "id": "83d71cb6",
   "metadata": {},
   "outputs": [
    {
     "data": {
      "text/html": [
       "<div>\n",
       "<style scoped>\n",
       "    .dataframe tbody tr th:only-of-type {\n",
       "        vertical-align: middle;\n",
       "    }\n",
       "\n",
       "    .dataframe tbody tr th {\n",
       "        vertical-align: top;\n",
       "    }\n",
       "\n",
       "    .dataframe thead th {\n",
       "        text-align: right;\n",
       "    }\n",
       "</style>\n",
       "<table border=\"1\" class=\"dataframe\">\n",
       "  <thead>\n",
       "    <tr style=\"text-align: right;\">\n",
       "      <th></th>\n",
       "      <th>var_2018</th>\n",
       "      <th>var_2019</th>\n",
       "      <th>var_2020</th>\n",
       "      <th>var_2021</th>\n",
       "    </tr>\n",
       "    <tr>\n",
       "      <th>author</th>\n",
       "      <th></th>\n",
       "      <th></th>\n",
       "      <th></th>\n",
       "      <th></th>\n",
       "    </tr>\n",
       "  </thead>\n",
       "  <tbody>\n",
       "    <tr>\n",
       "      <th>Ruhaiyem, Nur Intan Raihana</th>\n",
       "      <td>0.000000</td>\n",
       "      <td>0.002093</td>\n",
       "      <td>0.000874</td>\n",
       "      <td>0.000693</td>\n",
       "    </tr>\n",
       "    <tr>\n",
       "      <th>Binti Mohd Yasin, Norizan</th>\n",
       "      <td>0.000000</td>\n",
       "      <td>0.002373</td>\n",
       "      <td>0.000000</td>\n",
       "      <td>0.000000</td>\n",
       "    </tr>\n",
       "    <tr>\n",
       "      <th>Husin, Mohd Heikal</th>\n",
       "      <td>0.000631</td>\n",
       "      <td>0.001090</td>\n",
       "      <td>0.000770</td>\n",
       "      <td>0.001584</td>\n",
       "    </tr>\n",
       "    <tr>\n",
       "      <th>Omar, Mohd Adib</th>\n",
       "      <td>0.000000</td>\n",
       "      <td>0.000000</td>\n",
       "      <td>0.002902</td>\n",
       "      <td>0.000167</td>\n",
       "    </tr>\n",
       "    <tr>\n",
       "      <th>Norman, Azah Anir</th>\n",
       "      <td>0.002107</td>\n",
       "      <td>0.000475</td>\n",
       "      <td>0.001874</td>\n",
       "      <td>0.002200</td>\n",
       "    </tr>\n",
       "  </tbody>\n",
       "</table>\n",
       "</div>"
      ],
      "text/plain": [
       "                             var_2018  var_2019  var_2020  var_2021\n",
       "author                                                             \n",
       "Ruhaiyem, Nur Intan Raihana  0.000000  0.002093  0.000874  0.000693\n",
       "Binti Mohd Yasin, Norizan    0.000000  0.002373  0.000000  0.000000\n",
       "Husin, Mohd Heikal           0.000631  0.001090  0.000770  0.001584\n",
       "Omar, Mohd Adib              0.000000  0.000000  0.002902  0.000167\n",
       "Norman, Azah Anir            0.002107  0.000475  0.001874  0.002200"
      ]
     },
     "execution_count": 53,
     "metadata": {},
     "output_type": "execute_result"
    }
   ],
   "source": [
    "model_var.head()"
   ]
  },
  {
   "cell_type": "code",
   "execution_count": 54,
   "id": "884acb12",
   "metadata": {
    "scrolled": true
   },
   "outputs": [
    {
     "name": "stdout",
     "output_type": "stream",
     "text": [
      "0.0014074833257523563\n"
     ]
    }
   ],
   "source": [
    "x = model_var.query('author == \"Ku-Mahamud, Ku Ruhana\"')\n",
    "variance = x.iloc[0].values.mean()\n",
    "print(variance)"
   ]
  },
  {
   "cell_type": "code",
   "execution_count": 55,
   "id": "877c66ca",
   "metadata": {},
   "outputs": [
    {
     "name": "stdout",
     "output_type": "stream",
     "text": [
      "0.6351543590426445\n"
     ]
    }
   ],
   "source": [
    "y = model_mean.query('author == \"Ku-Mahamud, Ku Ruhana\"')\n",
    "mean = model_mean.iloc[0].values.mean()\n",
    "print(mean)"
   ]
  },
  {
   "cell_type": "code",
   "execution_count": 120,
   "id": "4b112d54",
   "metadata": {},
   "outputs": [],
   "source": [
    "def dy_line_plot(author, heights):\n",
    "    fig, ax = plt.subplots( figsize = (5,5))\n",
    "    ax = sns.set_style(style = \"whitegrid\")\n",
    "    labels = ['2018','2019','2020','2021'] # this is the years\n",
    "    # plt.plot(labels,heights)\n",
    "    plt.title(author.title());\n",
    "    sns.lineplot(x = labels, y =heights)\n",
    "    canvas = FigureCanvas(fig)\n",
    "    img = io.BytesIO()\n",
    "    fig.savefig(img)\n",
    "    img.seek(0);"
   ]
  },
  {
   "cell_type": "code",
   "execution_count": 121,
   "id": "a0596eb1",
   "metadata": {},
   "outputs": [
    {
     "data": {
      "image/png": "[encoded data removed]",
      "text/plain": [
       "<Figure size 360x360 with 1 Axes>"
      ]
     },
     "metadata": {},
     "output_type": "display_data"
    }
   ],
   "source": [
    "dy_line_plot(model_mean.index[0], model_mean.iloc[0].values)"
   ]
  },
  {
   "cell_type": "code",
   "execution_count": 108,
   "id": "7d608676",
   "metadata": {},
   "outputs": [
    {
     "data": {
      "text/plain": [
       "mean_2018    0.652072\n",
       "mean_2019    0.593962\n",
       "mean_2020    0.666212\n",
       "mean_2021    0.628371\n",
       "Name: Ruhaiyem, Nur Intan Raihana, dtype: float64"
      ]
     },
     "execution_count": 108,
     "metadata": {},
     "output_type": "execute_result"
    }
   ],
   "source": [
    " model_mean.iloc[0]"
   ]
  },
  {
   "cell_type": "code",
   "execution_count": 109,
   "id": "4a51edc7",
   "metadata": {},
   "outputs": [
    {
     "data": {
      "image/png": "[encoded data removed]",
      "text/plain": [
       "<Figure size 360x360 with 1 Axes>"
      ]
     },
     "metadata": {},
     "output_type": "display_data"
    }
   ],
   "source": [
    "dy_line_plot(model_var.index[0], model_var.iloc[0].values)"
   ]
  },
  {
   "cell_type": "code",
   "execution_count": 110,
   "id": "7757411a",
   "metadata": {},
   "outputs": [
    {
     "data": {
      "text/plain": [
       "var_2018    0.000000\n",
       "var_2019    0.002093\n",
       "var_2020    0.000874\n",
       "var_2021    0.000693\n",
       "Name: Ruhaiyem, Nur Intan Raihana, dtype: float64"
      ]
     },
     "execution_count": 110,
     "metadata": {},
     "output_type": "execute_result"
    }
   ],
   "source": [
    "model_var.iloc[0]"
   ]
  },
  {
   "cell_type": "code",
   "execution_count": 111,
   "id": "9c4f2190",
   "metadata": {},
   "outputs": [],
   "source": [
    "index = 1"
   ]
  },
  {
   "cell_type": "code",
   "execution_count": 112,
   "id": "422a419c",
   "metadata": {},
   "outputs": [
    {
     "data": {
      "image/png": "[encoded data removed]",
      "text/plain": [
       "<Figure size 360x360 with 1 Axes>"
      ]
     },
     "metadata": {},
     "output_type": "display_data"
    }
   ],
   "source": [
    "dy_line_plot(model_mean.index[index]+ \" Average Similarity\", model_mean.iloc[index].values)"
   ]
  },
  {
   "cell_type": "code",
   "execution_count": 113,
   "id": "892c11b8",
   "metadata": {},
   "outputs": [
    {
     "data": {
      "image/png": "[encoded data removed]",
      "text/plain": [
       "<Figure size 360x360 with 1 Axes>"
      ]
     },
     "metadata": {},
     "output_type": "display_data"
    }
   ],
   "source": [
    "dy_line_plot(model_var.index[index] +\" Varience\", model_var.iloc[index].values)"
   ]
  },
  {
   "cell_type": "code",
   "execution_count": null,
   "id": "d172879b",
   "metadata": {},
   "outputs": [],
   "source": []
  },
  {
   "cell_type": "code",
   "execution_count": null,
   "id": "0025cb13",
   "metadata": {},
   "outputs": [],
   "source": []
  }
 ],
 "metadata": {
  "kernelspec": {
   "display_name": "Python 3 (ipykernel)",
   "language": "python",
   "name": "python3"
  },
  "language_info": {
   "codemirror_mode": {
    "name": "ipython",
    "version": 3
   },
   "file_extension": ".py",
   "mimetype": "text/x-python",
   "name": "python",
   "nbconvert_exporter": "python",
   "pygments_lexer": "ipython3",
   "version": "3.10.4"
  }
 },
 "nbformat": 4,
 "nbformat_minor": 5
}